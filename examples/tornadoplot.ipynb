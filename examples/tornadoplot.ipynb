{
 "cells": [
  {
   "cell_type": "markdown",
   "metadata": {},
   "source": [
    "# Tornado Plot\n",
    "\n",
    "Tornado plot visualizes the distribution of missfit of parameters\n",
    "from single sensitivity analysis.\n",
    "\n",
    "It is unlikely to require Equinor branding, however combinations of \n",
    "red and blue from the Equinor color palette works quite well here.\n",
    "\n",
    "First we need to import some resources and set plotly in offline notebook\n",
    "mode."
   ]
  },
  {
   "cell_type": "code",
   "execution_count": 1,
   "metadata": {},
   "outputs": [
    {
     "data": {
      "text/html": [
       "<script type=\"text/javascript\">window.PlotlyConfig = {MathJaxConfig: 'local'};</script><script type=\"text/javascript\">if (window.MathJax) {MathJax.Hub.Config({SVG: {font: \"STIX-Web\"}});}</script><script>requirejs.config({paths: { 'plotly': ['https://cdn.plot.ly/plotly-latest.min']},});if(!window._Plotly) {require(['plotly'],function(plotly) {window._Plotly=plotly;});}</script>"
      ],
      "text/vnd.plotly.v1+html": [
       "<script type=\"text/javascript\">window.PlotlyConfig = {MathJaxConfig: 'local'};</script><script type=\"text/javascript\">if (window.MathJax) {MathJax.Hub.Config({SVG: {font: \"STIX-Web\"}});}</script><script>requirejs.config({paths: { 'plotly': ['https://cdn.plot.ly/plotly-latest.min']},});if(!window._Plotly) {require(['plotly'],function(plotly) {window._Plotly=plotly;});}</script>"
      ]
     },
     "metadata": {},
     "output_type": "display_data"
    }
   ],
   "source": [
    "import plotly\n",
    "from webviz_plotly.graph_objs import TornadoPlot\n",
    "import pandas as pd\n",
    "plotly.offline.init_notebook_mode(connected=True)"
   ]
  },
  {
   "cell_type": "markdown",
   "metadata": {},
   "source": [
    "Initilize some test data"
   ]
  },
  {
   "cell_type": "code",
   "execution_count": 2,
   "metadata": {},
   "outputs": [],
   "source": [
    "high = [0.8, 1, 0.3, 0.4]\n",
    "low = [0.5, -0.7, -.5, -0.1]\n",
    "index = ['A', 'B', 'C', 'D']\n",
    "bars = pd.DataFrame(\n",
    "    {'low': low, 'high': high},\n",
    "    index=index\n",
    ")"
   ]
  },
  {
   "cell_type": "markdown",
   "metadata": {},
   "source": [
    "We are going to use `bars.iterrows()` to get a list of tuples of the form `(index,{'low': low_values, 'high': high_value})`."
   ]
  },
  {
   "cell_type": "code",
   "execution_count": 3,
   "metadata": {},
   "outputs": [
    {
     "data": {
      "text/plain": [
       "[('A', high    0.8\n",
       "  low     0.5\n",
       "  Name: A, dtype: float64), ('B', high    1.0\n",
       "  low    -0.7\n",
       "  Name: B, dtype: float64), ('C', high    0.3\n",
       "  low    -0.5\n",
       "  Name: C, dtype: float64), ('D', high    0.4\n",
       "  low    -0.1\n",
       "  Name: D, dtype: float64)]"
      ]
     },
     "execution_count": 3,
     "metadata": {},
     "output_type": "execute_result"
    }
   ],
   "source": [
    "list(bars.iterrows())"
   ]
  },
  {
   "cell_type": "markdown",
   "metadata": {},
   "source": [
    "We can now plot the `TornadoPlot` with"
   ]
  },
  {
   "cell_type": "code",
   "execution_count": 4,
   "metadata": {},
   "outputs": [
    {
     "data": {
      "application/vnd.plotly.v1+json": {
       "data": [
        {
         "base": [
          0.5,
          0,
          0,
          0
         ],
         "marker": {
          "color": "rgba(0,0,255,1.0)"
         },
         "name": "low",
         "orientation": "h",
         "type": "bar",
         "uid": "d014da34-dbf2-433c-afa9-e5dfabb0708c",
         "x": [
          0,
          -0.7,
          -0.5,
          -0.1
         ],
         "y": [
          "A",
          "B",
          "C",
          "D"
         ]
        },
        {
         "base": [
          0.5,
          0,
          0,
          0
         ],
         "marker": {
          "color": "rgba(255,0,0,1.0)"
         },
         "name": "high",
         "orientation": "h",
         "type": "bar",
         "uid": "5e95426d-a673-42f9-8b70-969ae7b7d061",
         "x": [
          0.30000000000000004,
          1,
          0.3,
          0.4
         ],
         "y": [
          "A",
          "B",
          "C",
          "D"
         ]
        }
       ],
       "layout": {
        "autosize": true,
        "barmode": "relative",
        "showlegend": false,
        "xaxis": {
         "autorange": true,
         "range": [
          -0.7944444444444444,
          1.0944444444444443
         ],
         "type": "linear"
        },
        "yaxis": {
         "autorange": true,
         "range": [
          -0.5,
          3.5
         ],
         "type": "category"
        }
       }
      },
      "image/png": "[encoded data removed]",
      "text/html": [
       "<div id=\"c510b336-0bcf-4798-96d6-b8deb458e4d4\" style=\"height: 525px; width: 100%;\" class=\"plotly-graph-div\"></div><script type=\"text/javascript\">require([\"plotly\"], function(Plotly) { window.PLOTLYENV=window.PLOTLYENV || {};window.PLOTLYENV.BASE_URL=\"https://plot.ly\";Plotly.newPlot(\"c510b336-0bcf-4798-96d6-b8deb458e4d4\", [{\"base\": [0.5, 0, 0, 0], \"marker\": {\"color\": \"rgba(0,0,255,1.0)\"}, \"name\": \"low\", \"orientation\": \"h\", \"x\": [0, -0.7, -0.5, -0.1], \"y\": [\"A\", \"B\", \"C\", \"D\"], \"type\": \"bar\", \"uid\": \"d014da34-dbf2-433c-afa9-e5dfabb0708c\"}, {\"base\": [0.5, 0, 0, 0], \"marker\": {\"color\": \"rgba(255,0,0,1.0)\"}, \"name\": \"high\", \"orientation\": \"h\", \"x\": [0.30000000000000004, 1.0, 0.3, 0.4], \"y\": [\"A\", \"B\", \"C\", \"D\"], \"type\": \"bar\", \"uid\": \"5e95426d-a673-42f9-8b70-969ae7b7d061\"}], {\"barmode\": \"relative\", \"showlegend\": false}, {\"showLink\": true, \"linkText\": \"Export to plot.ly\"})});</script><script type=\"text/javascript\">window.addEventListener(\"resize\", function(){window._Plotly.Plots.resize(document.getElementById(\"c510b336-0bcf-4798-96d6-b8deb458e4d4\"));});</script>"
      ],
      "text/vnd.plotly.v1+html": [
       "<div id=\"c510b336-0bcf-4798-96d6-b8deb458e4d4\" style=\"height: 525px; width: 100%;\" class=\"plotly-graph-div\"></div><script type=\"text/javascript\">require([\"plotly\"], function(Plotly) { window.PLOTLYENV=window.PLOTLYENV || {};window.PLOTLYENV.BASE_URL=\"https://plot.ly\";Plotly.newPlot(\"c510b336-0bcf-4798-96d6-b8deb458e4d4\", [{\"base\": [0.5, 0, 0, 0], \"marker\": {\"color\": \"rgba(0,0,255,1.0)\"}, \"name\": \"low\", \"orientation\": \"h\", \"x\": [0, -0.7, -0.5, -0.1], \"y\": [\"A\", \"B\", \"C\", \"D\"], \"type\": \"bar\", \"uid\": \"d014da34-dbf2-433c-afa9-e5dfabb0708c\"}, {\"base\": [0.5, 0, 0, 0], \"marker\": {\"color\": \"rgba(255,0,0,1.0)\"}, \"name\": \"high\", \"orientation\": \"h\", \"x\": [0.30000000000000004, 1.0, 0.3, 0.4], \"y\": [\"A\", \"B\", \"C\", \"D\"], \"type\": \"bar\", \"uid\": \"5e95426d-a673-42f9-8b70-969ae7b7d061\"}], {\"barmode\": \"relative\", \"showlegend\": false}, {\"showLink\": true, \"linkText\": \"Export to plot.ly\"})});</script><script type=\"text/javascript\">window.addEventListener(\"resize\", function(){window._Plotly.Plots.resize(document.getElementById(\"c510b336-0bcf-4798-96d6-b8deb458e4d4\"));});</script>"
      ]
     },
     "metadata": {},
     "output_type": "display_data"
    }
   ],
   "source": [
    "plotly.offline.iplot(TornadoPlot(bars.iterrows()), filename='tornadoplot')"
   ]
  }
 ],
 "metadata": {
  "kernelspec": {
   "display_name": "Python 3",
   "language": "python",
   "name": "python3"
  },
  "language_info": {
   "codemirror_mode": {
    "name": "ipython",
    "version": 3
   },
   "file_extension": ".py",
   "mimetype": "text/x-python",
   "name": "python",
   "nbconvert_exporter": "python",
   "pygments_lexer": "ipython3",
   "version": "3.6.8"
  }
 },
 "nbformat": 4,
 "nbformat_minor": 2
}
