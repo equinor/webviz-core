{
 "cells": [
  {
   "cell_type": "markdown",
   "metadata": {},
   "source": [
    "# Visualizing Modelling Maps\n",
    "\n",
    "Plotly has a [builtin chart type for visualizing geo-spatial data](https://plot.ly/python/county-choropleth/).\n",
    "We have developed a custom dash component with more advanced features, specifically for reservoir modelling.\n",
    "Currently, the component can only be used with dash and cannot be combined with other plotly features."
   ]
  },
  {
   "cell_type": "code",
   "execution_count": 5,
   "metadata": {},
   "outputs": [],
   "source": [
    "import dash\n",
    "import dash_html_components as html\n",
    "import pandas as pd\n",
    "from pandas.compat import StringIO\n",
    "from webviz_components import Layout, Map, Page\n",
    "app = dash.Dash(__name__)"
   ]
  },
  {
   "cell_type": "markdown",
   "metadata": {},
   "source": [
    "The map component conveniently takes data input that is derived from the following\n",
    "dataframe:"
   ]
  },
  {
   "cell_type": "code",
   "execution_count": null,
   "metadata": {},
   "outputs": [],
   "source": [
    "cells = pd.read_csv(StringIO(\"\"\"\n",
    "i,j,k,x0,y0,x1,y1,x2,y2,x3,y3,value,FLOWI+,FLOWJ+\n",
    "0,0,0,0,0,1,0,1,1,0,1,1,0.005,0.0025\n",
    "1,0,0,1,0,2,0,2,1,1,1,0,0.002,0.0045\n",
    "0,1,0,0,1,1,1,1,2,0,2,4,0.001,0.0025\n",
    "1,1,0,1,1,2,1,2,2,1,2,2,0.004,0.0035\n",
    "\"\"\"))"
   ]
  },
  {
   "cell_type": "markdown",
   "metadata": {},
   "source": [
    "We can combine the modelling map with the layout from webviz_components to show\n",
    "several maps in one dashboard. Here we read data from reek (`'reek.csv'`) into\n",
    "a different map displayed on the first page. Note that the dataframe is converted\n",
    "to json (`.to_json()`) before calling `Map`)"
   ]
  },
  {
   "cell_type": "code",
   "execution_count": null,
   "metadata": {},
   "outputs": [],
   "source": [
    "app.layout = Layout(children=[\n",
    "    Page(\n",
    "        id='reek',\n",
    "        title='Map with Reek data',\n",
    "        children=[\n",
    "            html.H1(children='Reek'),\n",
    "            html.P(children='''\n",
    "                This is an example of Map using Reek data\n",
    "            '''),\n",
    "            Map(id='reek-map', data=pd.read_csv('./reek.csv').to_json())\n",
    "        ]\n",
    "    ),\n",
    "    Page(\n",
    "        id='simple-map',\n",
    "        title='Simple Map',\n",
    "        children=[\n",
    "            html.H1(children='Map'),\n",
    "            html.P(children='''\n",
    "                This is an example of how to use Map\n",
    "            '''),\n",
    "            Map(id='flow-map', data=cells.to_json())\n",
    "        ]\n",
    "    )]\n",
    ")"
   ]
  },
  {
   "cell_type": "markdown",
   "metadata": {},
   "source": [
    "Running the server and opening a browser window on `localhost:8050`, should show you a dashboard with maps."
   ]
  },
  {
   "cell_type": "code",
   "execution_count": null,
   "metadata": {},
   "outputs": [],
   "source": [
    "if __name__ == '__main__':\n",
    "    app.run_server(debug=False)"
   ]
  }
 ],
 "metadata": {
  "kernelspec": {
   "display_name": "Python 3",
   "language": "python",
   "name": "python3"
  },
  "language_info": {
   "codemirror_mode": {
    "name": "ipython",
    "version": 3
   },
   "file_extension": ".py",
   "mimetype": "text/x-python",
   "name": "python",
   "nbconvert_exporter": "python",
   "pygments_lexer": "ipython3",
   "version": "3.6.8"
  }
 },
 "nbformat": 4,
 "nbformat_minor": 2
}
