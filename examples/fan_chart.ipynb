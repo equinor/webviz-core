{
 "cells": [
  {
   "cell_type": "code",
   "execution_count": 1,
   "metadata": {},
   "outputs": [
    {
     "data": {
      "text/html": [
       "<script type=\"text/javascript\">window.PlotlyConfig = {MathJaxConfig: 'local'};</script><script type=\"text/javascript\">if (window.MathJax) {MathJax.Hub.Config({SVG: {font: \"STIX-Web\"}});}</script><script>requirejs.config({paths: { 'plotly': ['https://cdn.plot.ly/plotly-latest.min']},});if(!window._Plotly) {require(['plotly'],function(plotly) {window._Plotly=plotly;});}</script>"
      ],
      "text/vnd.plotly.v1+html": [
       "<script type=\"text/javascript\">window.PlotlyConfig = {MathJaxConfig: 'local'};</script><script type=\"text/javascript\">if (window.MathJax) {MathJax.Hub.Config({SVG: {font: \"STIX-Web\"}});}</script><script>requirejs.config({paths: { 'plotly': ['https://cdn.plot.ly/plotly-latest.min']},});if(!window._Plotly) {require(['plotly'],function(plotly) {window._Plotly=plotly;});}</script>"
      ]
     },
     "metadata": {},
     "output_type": "display_data"
    }
   ],
   "source": [
    "import plotly\n",
    "from webviz_plotly.graph_objs import FanChart\n",
    "import pandas as pd\n",
    "plotly.offline.init_notebook_mode(connected=True)"
   ]
  },
  {
   "cell_type": "code",
   "execution_count": 2,
   "metadata": {},
   "outputs": [],
   "source": [
    "\n",
    "\n",
    "lines = pd.DataFrame({\n",
    "    'index': ['2012-01-01', '2012-01-02', '2012-01-03', '2012-01-04', '2012-01-05', '2012-01-06', '2012-01-07', '2012-01-08', '2012-01-09', '2012-01-10', '2012-01-11', '2012-01-012'],\n",
    "    'name': ['line-1']*12,\n",
    "    'mean': [10, 15, 13, 17, 11, 12, 10, 18, 19, 15, 17, 12],\n",
    "    'p10':  [11, 16, 13, 18, 14, 15, 21, 22, 23, 20, 19, 19],\n",
    "    'p90':  [9, 14, 12, 16, 10, 10, 9, 8, 7, 6, 9, 10],\n",
    "    'max':  [16, 17, 16, 19, 20, 19, 22, 23, 25, 27, 25, 24],\n",
    "    'min':  [4, 1, 9, 8, 9, 10, 9, 8, 7, 5, 4, 4]\n",
    "})\n",
    "\n",
    "observations = pd.DataFrame({\n",
    "    'name': ['observation 1', 'observation 2'],\n",
    "    'value': [4, 3],\n",
    "    'error': 2\n",
    "})"
   ]
  },
  {
   "cell_type": "code",
   "execution_count": 3,
   "metadata": {},
   "outputs": [
    {
     "data": {
      "application/vnd.plotly.v1+json": {
       "data": [
        {
         "legendgroup": "line-1",
         "line": {
          "color": "rgba(228, 26, 28, 1)"
         },
         "mode": "lines",
         "name": "line-1",
         "type": "scatter",
         "uid": "40c2d50f-be5e-49b8-8fde-1731d46eff65",
         "x": [
          0,
          1,
          2,
          3,
          4,
          5,
          6,
          7,
          8,
          9,
          10,
          11
         ],
         "y": [
          10,
          15,
          13,
          17,
          11,
          12,
          10,
          18,
          19,
          15,
          17,
          12
         ]
        },
        {
         "fill": "toself",
         "fillcolor": "rgba(228, 26, 28, 0.5)",
         "hoverinfo": "none",
         "legendgroup": "line-1",
         "line": {
          "width": 0
         },
         "mode": "lines",
         "name": "line-1",
         "showlegend": false,
         "type": "scatter",
         "uid": "928efbb4-9bee-4a9a-b7aa-39cd9bab9587",
         "x": [
          0,
          1,
          2,
          3,
          4,
          5,
          6,
          7,
          8,
          9,
          10,
          11,
          11,
          10,
          9,
          8,
          7,
          6,
          5,
          4,
          3,
          2,
          1,
          0
         ],
         "y": [
          9,
          14,
          12,
          16,
          10,
          10,
          9,
          8,
          7,
          6,
          9,
          10,
          12,
          17,
          15,
          19,
          18,
          10,
          12,
          11,
          17,
          13,
          15,
          10
         ]
        },
        {
         "fill": "toself",
         "fillcolor": "rgba(228, 26, 28, 0.5)",
         "hoverinfo": "none",
         "legendgroup": "line-1",
         "line": {
          "width": 0
         },
         "mode": "lines",
         "name": "line-1",
         "showlegend": false,
         "type": "scatter",
         "uid": "fbddd861-c6f6-4d38-b157-3be8ddcba84f",
         "x": [
          0,
          1,
          2,
          3,
          4,
          5,
          6,
          7,
          8,
          9,
          10,
          11,
          11,
          10,
          9,
          8,
          7,
          6,
          5,
          4,
          3,
          2,
          1,
          0
         ],
         "y": [
          11,
          16,
          13,
          18,
          14,
          15,
          21,
          22,
          23,
          20,
          19,
          19,
          12,
          17,
          15,
          19,
          18,
          10,
          12,
          11,
          17,
          13,
          15,
          10
         ]
        },
        {
         "fill": "toself",
         "fillcolor": "rgba(228, 26, 28, 0.3)",
         "hoverinfo": "none",
         "legendgroup": "line-1",
         "line": {
          "width": 0
         },
         "mode": "lines",
         "name": "line-1",
         "showlegend": false,
         "type": "scatter",
         "uid": "654affc9-f073-4761-8100-71a3457c7068",
         "x": [
          0,
          1,
          2,
          3,
          4,
          5,
          6,
          7,
          8,
          9,
          10,
          11,
          11,
          10,
          9,
          8,
          7,
          6,
          5,
          4,
          3,
          2,
          1,
          0
         ],
         "y": [
          4,
          1,
          9,
          8,
          9,
          10,
          9,
          8,
          7,
          5,
          4,
          4,
          12,
          17,
          15,
          19,
          18,
          10,
          12,
          11,
          17,
          13,
          15,
          10
         ]
        },
        {
         "fill": "toself",
         "fillcolor": "rgba(228, 26, 28, 0.3)",
         "hoverinfo": "none",
         "legendgroup": "line-1",
         "line": {
          "width": 0
         },
         "mode": "lines",
         "name": "line-1",
         "showlegend": false,
         "type": "scatter",
         "uid": "324b789e-1d39-47db-a388-89784ac1efe6",
         "x": [
          0,
          1,
          2,
          3,
          4,
          5,
          6,
          7,
          8,
          9,
          10,
          11,
          11,
          10,
          9,
          8,
          7,
          6,
          5,
          4,
          3,
          2,
          1,
          0
         ],
         "y": [
          16,
          17,
          16,
          19,
          20,
          19,
          22,
          23,
          25,
          27,
          25,
          24,
          12,
          17,
          15,
          19,
          18,
          10,
          12,
          11,
          17,
          13,
          15,
          10
         ]
        },
        {
         "hoverinfo": "none",
         "line": {
          "color": "#000",
          "width": 1
         },
         "mode": "lines",
         "showlegend": false,
         "text": "",
         "type": "scatter",
         "uid": "be31c9e8-860d-487d-abc9-a73cf6d1b22f",
         "x": [
          0,
          0
         ],
         "y": [
          6,
          2
         ]
        },
        {
         "hoverlabel": {
          "bgcolor": "#000"
         },
         "marker": {
          "color": "#000"
         },
         "mode": "markers",
         "showlegend": false,
         "type": "scatter",
         "uid": "f1c94347-2574-426c-bed8-4527db520456",
         "x": [
          0
         ],
         "y": [
          4
         ]
        },
        {
         "hoverinfo": "none",
         "line": {
          "color": "#000",
          "width": 1
         },
         "mode": "lines",
         "showlegend": false,
         "text": "",
         "type": "scatter",
         "uid": "982cb922-176e-4531-bc07-a62893091647",
         "x": [
          1,
          1
         ],
         "y": [
          5,
          1
         ]
        },
        {
         "hoverlabel": {
          "bgcolor": "#000"
         },
         "marker": {
          "color": "#000"
         },
         "mode": "markers",
         "showlegend": false,
         "type": "scatter",
         "uid": "dfedeb98-18fe-47e6-80b8-c454b30e1b9c",
         "x": [
          1
         ],
         "y": [
          3
         ]
        }
       ],
       "layout": {
        "autosize": true,
        "xaxis": {
         "autorange": true,
         "range": [
          -0.6045380875202593,
          11
         ],
         "type": "linear"
        },
        "yaxis": {
         "autorange": true,
         "range": [
          -0.4444444444444444,
          28.444444444444443
         ],
         "type": "linear"
        }
       }
      },
      "image/png": "[encoded data removed]",
      "text/html": [
       "<div id=\"27f220dc-282a-464e-bcf0-8a8a029519a1\" style=\"height: 525px; width: 100%;\" class=\"plotly-graph-div\"></div><script type=\"text/javascript\">require([\"plotly\"], function(Plotly) { window.PLOTLYENV=window.PLOTLYENV || {};window.PLOTLYENV.BASE_URL=\"https://plot.ly\";Plotly.newPlot(\"27f220dc-282a-464e-bcf0-8a8a029519a1\", [{\"legendgroup\": \"line-1\", \"line\": {\"color\": \"rgba(0.8941176470588236,0.10196078431372549,0.10980392156862745,1.0)\"}, \"mode\": \"lines\", \"name\": \"line-1\", \"x\": [0, 1, 2, 3, 4, 5, 6, 7, 8, 9, 10, 11], \"y\": [10, 15, 13, 17, 11, 12, 10, 18, 19, 15, 17, 12], \"type\": \"scatter\", \"uid\": \"40c2d50f-be5e-49b8-8fde-1731d46eff65\"}, {\"fill\": \"toself\", \"fillcolor\": \"rgba(0.8941176470588236,0.10196078431372549,0.10980392156862745,0.5)\", \"hoverinfo\": \"none\", \"legendgroup\": \"line-1\", \"line\": {\"width\": 0}, \"mode\": \"lines\", \"name\": \"line-1\", \"showlegend\": false, \"x\": [0, 1, 2, 3, 4, 5, 6, 7, 8, 9, 10, 11, 11, 10, 9, 8, 7, 6, 5, 4, 3, 2, 1, 0], \"y\": [9, 14, 12, 16, 10, 10, 9, 8, 7, 6, 9, 10, 12, 17, 15, 19, 18, 10, 12, 11, 17, 13, 15, 10], \"type\": \"scatter\", \"uid\": \"928efbb4-9bee-4a9a-b7aa-39cd9bab9587\"}, {\"fill\": \"toself\", \"fillcolor\": \"rgba(0.8941176470588236,0.10196078431372549,0.10980392156862745,0.5)\", \"hoverinfo\": \"none\", \"legendgroup\": \"line-1\", \"line\": {\"width\": 0}, \"mode\": \"lines\", \"name\": \"line-1\", \"showlegend\": false, \"x\": [0, 1, 2, 3, 4, 5, 6, 7, 8, 9, 10, 11, 11, 10, 9, 8, 7, 6, 5, 4, 3, 2, 1, 0], \"y\": [11, 16, 13, 18, 14, 15, 21, 22, 23, 20, 19, 19, 12, 17, 15, 19, 18, 10, 12, 11, 17, 13, 15, 10], \"type\": \"scatter\", \"uid\": \"fbddd861-c6f6-4d38-b157-3be8ddcba84f\"}, {\"fill\": \"toself\", \"fillcolor\": \"rgba(0.8941176470588236,0.10196078431372549,0.10980392156862745,0.3)\", \"hoverinfo\": \"none\", \"legendgroup\": \"line-1\", \"line\": {\"width\": 0}, \"mode\": \"lines\", \"name\": \"line-1\", \"showlegend\": false, \"x\": [0, 1, 2, 3, 4, 5, 6, 7, 8, 9, 10, 11, 11, 10, 9, 8, 7, 6, 5, 4, 3, 2, 1, 0], \"y\": [4, 1, 9, 8, 9, 10, 9, 8, 7, 5, 4, 4, 12, 17, 15, 19, 18, 10, 12, 11, 17, 13, 15, 10], \"type\": \"scatter\", \"uid\": \"654affc9-f073-4761-8100-71a3457c7068\"}, {\"fill\": \"toself\", \"fillcolor\": \"rgba(0.8941176470588236,0.10196078431372549,0.10980392156862745,0.3)\", \"hoverinfo\": \"none\", \"legendgroup\": \"line-1\", \"line\": {\"width\": 0}, \"mode\": \"lines\", \"name\": \"line-1\", \"showlegend\": false, \"x\": [0, 1, 2, 3, 4, 5, 6, 7, 8, 9, 10, 11, 11, 10, 9, 8, 7, 6, 5, 4, 3, 2, 1, 0], \"y\": [16, 17, 16, 19, 20, 19, 22, 23, 25, 27, 25, 24, 12, 17, 15, 19, 18, 10, 12, 11, 17, 13, 15, 10], \"type\": \"scatter\", \"uid\": \"324b789e-1d39-47db-a388-89784ac1efe6\"}, {\"hoverinfo\": \"none\", \"line\": {\"color\": \"#000\", \"width\": 1}, \"mode\": \"lines\", \"showlegend\": false, \"text\": \"\", \"x\": [0, 0], \"y\": [6, 2], \"type\": \"scatter\", \"uid\": \"be31c9e8-860d-487d-abc9-a73cf6d1b22f\"}, {\"hoverlabel\": {\"bgcolor\": \"#000\"}, \"marker\": {\"color\": \"#000\"}, \"mode\": \"markers\", \"showlegend\": false, \"x\": [0], \"y\": [4], \"type\": \"scatter\", \"uid\": \"f1c94347-2574-426c-bed8-4527db520456\"}, {\"hoverinfo\": \"none\", \"line\": {\"color\": \"#000\", \"width\": 1}, \"mode\": \"lines\", \"showlegend\": false, \"text\": \"\", \"x\": [1, 1], \"y\": [5, 1], \"type\": \"scatter\", \"uid\": \"982cb922-176e-4531-bc07-a62893091647\"}, {\"hoverlabel\": {\"bgcolor\": \"#000\"}, \"marker\": {\"color\": \"#000\"}, \"mode\": \"markers\", \"showlegend\": false, \"x\": [1], \"y\": [3], \"type\": \"scatter\", \"uid\": \"dfedeb98-18fe-47e6-80b8-c454b30e1b9c\"}], {}, {\"showLink\": true, \"linkText\": \"Export to plot.ly\"})});</script><script type=\"text/javascript\">window.addEventListener(\"resize\", function(){window._Plotly.Plots.resize(document.getElementById(\"27f220dc-282a-464e-bcf0-8a8a029519a1\"));});</script>"
      ],
      "text/vnd.plotly.v1+html": [
       "<div id=\"27f220dc-282a-464e-bcf0-8a8a029519a1\" style=\"height: 525px; width: 100%;\" class=\"plotly-graph-div\"></div><script type=\"text/javascript\">require([\"plotly\"], function(Plotly) { window.PLOTLYENV=window.PLOTLYENV || {};window.PLOTLYENV.BASE_URL=\"https://plot.ly\";Plotly.newPlot(\"27f220dc-282a-464e-bcf0-8a8a029519a1\", [{\"legendgroup\": \"line-1\", \"line\": {\"color\": \"rgba(0.8941176470588236,0.10196078431372549,0.10980392156862745,1.0)\"}, \"mode\": \"lines\", \"name\": \"line-1\", \"x\": [0, 1, 2, 3, 4, 5, 6, 7, 8, 9, 10, 11], \"y\": [10, 15, 13, 17, 11, 12, 10, 18, 19, 15, 17, 12], \"type\": \"scatter\", \"uid\": \"40c2d50f-be5e-49b8-8fde-1731d46eff65\"}, {\"fill\": \"toself\", \"fillcolor\": \"rgba(0.8941176470588236,0.10196078431372549,0.10980392156862745,0.5)\", \"hoverinfo\": \"none\", \"legendgroup\": \"line-1\", \"line\": {\"width\": 0}, \"mode\": \"lines\", \"name\": \"line-1\", \"showlegend\": false, \"x\": [0, 1, 2, 3, 4, 5, 6, 7, 8, 9, 10, 11, 11, 10, 9, 8, 7, 6, 5, 4, 3, 2, 1, 0], \"y\": [9, 14, 12, 16, 10, 10, 9, 8, 7, 6, 9, 10, 12, 17, 15, 19, 18, 10, 12, 11, 17, 13, 15, 10], \"type\": \"scatter\", \"uid\": \"928efbb4-9bee-4a9a-b7aa-39cd9bab9587\"}, {\"fill\": \"toself\", \"fillcolor\": \"rgba(0.8941176470588236,0.10196078431372549,0.10980392156862745,0.5)\", \"hoverinfo\": \"none\", \"legendgroup\": \"line-1\", \"line\": {\"width\": 0}, \"mode\": \"lines\", \"name\": \"line-1\", \"showlegend\": false, \"x\": [0, 1, 2, 3, 4, 5, 6, 7, 8, 9, 10, 11, 11, 10, 9, 8, 7, 6, 5, 4, 3, 2, 1, 0], \"y\": [11, 16, 13, 18, 14, 15, 21, 22, 23, 20, 19, 19, 12, 17, 15, 19, 18, 10, 12, 11, 17, 13, 15, 10], \"type\": \"scatter\", \"uid\": \"fbddd861-c6f6-4d38-b157-3be8ddcba84f\"}, {\"fill\": \"toself\", \"fillcolor\": \"rgba(0.8941176470588236,0.10196078431372549,0.10980392156862745,0.3)\", \"hoverinfo\": \"none\", \"legendgroup\": \"line-1\", \"line\": {\"width\": 0}, \"mode\": \"lines\", \"name\": \"line-1\", \"showlegend\": false, \"x\": [0, 1, 2, 3, 4, 5, 6, 7, 8, 9, 10, 11, 11, 10, 9, 8, 7, 6, 5, 4, 3, 2, 1, 0], \"y\": [4, 1, 9, 8, 9, 10, 9, 8, 7, 5, 4, 4, 12, 17, 15, 19, 18, 10, 12, 11, 17, 13, 15, 10], \"type\": \"scatter\", \"uid\": \"654affc9-f073-4761-8100-71a3457c7068\"}, {\"fill\": \"toself\", \"fillcolor\": \"rgba(0.8941176470588236,0.10196078431372549,0.10980392156862745,0.3)\", \"hoverinfo\": \"none\", \"legendgroup\": \"line-1\", \"line\": {\"width\": 0}, \"mode\": \"lines\", \"name\": \"line-1\", \"showlegend\": false, \"x\": [0, 1, 2, 3, 4, 5, 6, 7, 8, 9, 10, 11, 11, 10, 9, 8, 7, 6, 5, 4, 3, 2, 1, 0], \"y\": [16, 17, 16, 19, 20, 19, 22, 23, 25, 27, 25, 24, 12, 17, 15, 19, 18, 10, 12, 11, 17, 13, 15, 10], \"type\": \"scatter\", \"uid\": \"324b789e-1d39-47db-a388-89784ac1efe6\"}, {\"hoverinfo\": \"none\", \"line\": {\"color\": \"#000\", \"width\": 1}, \"mode\": \"lines\", \"showlegend\": false, \"text\": \"\", \"x\": [0, 0], \"y\": [6, 2], \"type\": \"scatter\", \"uid\": \"be31c9e8-860d-487d-abc9-a73cf6d1b22f\"}, {\"hoverlabel\": {\"bgcolor\": \"#000\"}, \"marker\": {\"color\": \"#000\"}, \"mode\": \"markers\", \"showlegend\": false, \"x\": [0], \"y\": [4], \"type\": \"scatter\", \"uid\": \"f1c94347-2574-426c-bed8-4527db520456\"}, {\"hoverinfo\": \"none\", \"line\": {\"color\": \"#000\", \"width\": 1}, \"mode\": \"lines\", \"showlegend\": false, \"text\": \"\", \"x\": [1, 1], \"y\": [5, 1], \"type\": \"scatter\", \"uid\": \"982cb922-176e-4531-bc07-a62893091647\"}, {\"hoverlabel\": {\"bgcolor\": \"#000\"}, \"marker\": {\"color\": \"#000\"}, \"mode\": \"markers\", \"showlegend\": false, \"x\": [1], \"y\": [3], \"type\": \"scatter\", \"uid\": \"dfedeb98-18fe-47e6-80b8-c454b30e1b9c\"}], {}, {\"showLink\": true, \"linkText\": \"Export to plot.ly\"})});</script><script type=\"text/javascript\">window.addEventListener(\"resize\", function(){window._Plotly.Plots.resize(document.getElementById(\"27f220dc-282a-464e-bcf0-8a8a029519a1\"));});</script>"
      ]
     },
     "metadata": {},
     "output_type": "display_data"
    }
   ],
   "source": [
    "plotly.offline.iplot(FanChart(data=lines.iterrows(), observations=observations.iterrows()), filename='fan_chart')"
   ]
  }
 ],
 "metadata": {
  "kernelspec": {
   "display_name": "Python 3",
   "language": "python",
   "name": "python3"
  },
  "language_info": {
   "codemirror_mode": {
    "name": "ipython",
    "version": 3
   },
   "file_extension": ".py",
   "mimetype": "text/x-python",
   "name": "python",
   "nbconvert_exporter": "python",
   "pygments_lexer": "ipython3",
   "version": "3.6.8"
  }
 },
 "nbformat": 4,
 "nbformat_minor": 2
}
